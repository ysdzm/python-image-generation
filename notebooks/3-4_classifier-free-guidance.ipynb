{
 "cells": [
  {
   "cell_type": "markdown",
   "id": "0",
   "metadata": {},
   "source": [
    "# Classifier-free Guidance (CFG) の実装"
   ]
  },
  {
   "cell_type": "markdown",
   "id": "1",
   "metadata": {},
   "source": [
    "[![Open In Colab](https://colab.research.google.com/assets/colab-badge.svg)](https://colab.research.google.com/github/py-img-gen/python-image-generation/blob/main/notebooks/3-4_classifier-free-guidance.ipynb)"
   ]
  },
  {
   "cell_type": "markdown",
   "id": "2",
   "metadata": {},
   "source": [
    "## 準備"
   ]
  },
  {
   "cell_type": "code",
   "execution_count": null,
   "id": "3",
   "metadata": {},
   "outputs": [],
   "source": [
    "!pip install -qq py-img-gen"
   ]
  },
  {
   "cell_type": "code",
   "execution_count": null,
   "id": "4",
   "metadata": {},
   "outputs": [],
   "source": [
    "import warnings\n",
    "\n",
    "import torch\n",
    "\n",
    "device = torch.device(\n",
    "    \"cuda\" if torch.cuda.is_available() else \"cpu\"\n",
    ")\n",
    "dtype = torch.float16\n",
    "seed = 777\n",
    "\n",
    "warnings.simplefilter(\"ignore\", FutureWarning)"
   ]
  },
  {
   "cell_type": "markdown",
   "id": "5",
   "metadata": {},
   "source": [
    "## CFG の実践"
   ]
  },
  {
   "cell_type": "markdown",
   "id": "6",
   "metadata": {},
   "source": [
    "### Stable Diffusion パイプラインの読み込み"
   ]
  },
  {
   "cell_type": "code",
   "execution_count": null,
   "id": "7",
   "metadata": {},
   "outputs": [],
   "source": [
    "from diffusers import StableDiffusionPipeline\n",
    "\n",
    "model_id = \"stable-diffusion-v1-5/stable-diffusion-v1-5\"\n",
    "\n",
    "pipe = StableDiffusionPipeline.from_pretrained(\n",
    "    model_id, torch_dtype=dtype\n",
    ")\n",
    "pipe = pipe.to(device)"
   ]
  },
  {
   "cell_type": "markdown",
   "id": "8",
   "metadata": {},
   "source": [
    "### 勾配計算の無効化"
   ]
  },
  {
   "cell_type": "code",
   "execution_count": null,
   "id": "9",
   "metadata": {},
   "outputs": [],
   "source": [
    "torch.set_grad_enabled(False)"
   ]
  },
  {
   "cell_type": "markdown",
   "id": "10",
   "metadata": {},
   "source": [
    "### ハイパーパラメータの定義"
   ]
  },
  {
   "cell_type": "code",
   "execution_count": null,
   "id": "11",
   "metadata": {
    "lines_to_next_cell": 2
   },
   "outputs": [],
   "source": [
    "# 乱数生成器に指定されたシード値を設定\n",
    "generator = torch.manual_seed(seed)\n",
    "# 生成画像の解像度の指定\n",
    "width = height = 512\n",
    "# 画像生成する際の条件プロンプト\n",
    "prompt = \"A photo of an astronaut riding a horse\"\n",
    "# 逆拡散過程のステップ数\n",
    "num_inference_steps = 50\n",
    "# DDIM における eta (η) の値\n",
    "eta = 0.0\n",
    "# 今回は画像 1 枚を生成\n",
    "batch_size = 1"
   ]
  },
  {
   "cell_type": "markdown",
   "id": "12",
   "metadata": {},
   "source": [
    "### 入力値のバリデーション"
   ]
  },
  {
   "cell_type": "code",
   "execution_count": null,
   "id": "13",
   "metadata": {},
   "outputs": [],
   "source": [
    "pipe.check_inputs(\n",
    "    prompt=prompt,\n",
    "    width=width,\n",
    "    height=height,\n",
    "    callback_steps=1,\n",
    ")"
   ]
  },
  {
   "cell_type": "markdown",
   "id": "14",
   "metadata": {},
   "source": [
    "### 入力テキストの処理"
   ]
  },
  {
   "cell_type": "markdown",
   "id": "15",
   "metadata": {},
   "source": [
    "#### 入力テキストのトークナイゼーション"
   ]
  },
  {
   "cell_type": "code",
   "execution_count": null,
   "id": "16",
   "metadata": {},
   "outputs": [],
   "source": [
    "cond_text_inputs = pipe.tokenizer(\n",
    "    prompt,\n",
    "    padding=\"max_length\",\n",
    "    max_length=pipe.tokenizer.model_max_length,\n",
    "    truncation=True,\n",
    "    return_tensors=\"pt\",\n",
    ")\n",
    "cond_text_input_ids = cond_text_inputs.input_ids\n",
    "cond_text_input_ids"
   ]
  },
  {
   "cell_type": "markdown",
   "id": "17",
   "metadata": {},
   "source": [
    "#### 入力テキストのエンコード"
   ]
  },
  {
   "cell_type": "code",
   "execution_count": null,
   "id": "18",
   "metadata": {},
   "outputs": [],
   "source": [
    "text_encoder_output = pipe.text_encoder(\n",
    "    cond_text_input_ids.to(device),\n",
    ")\n",
    "cond_prompt_embeds = text_encoder_output.last_hidden_state\n",
    "cond_prompt_embeds = cond_prompt_embeds.to(\n",
    "    dtype=pipe.text_encoder.dtype, device=device\n",
    ")"
   ]
  },
  {
   "cell_type": "markdown",
   "id": "19",
   "metadata": {},
   "source": [
    "#### Nullテキストのトークナイゼーション"
   ]
  },
  {
   "cell_type": "code",
   "execution_count": null,
   "id": "20",
   "metadata": {},
   "outputs": [],
   "source": [
    "uncond_tokens = [\"\"] * batch_size\n",
    "uncond_text_inputs = pipe.tokenizer(\n",
    "    uncond_tokens,\n",
    "    padding=\"max_length\",\n",
    "    truncation=True,\n",
    "    return_tensors=\"pt\",\n",
    ")\n",
    "uncond_text_input_ids = uncond_text_inputs.input_ids\n",
    "uncond_text_input_ids"
   ]
  },
  {
   "cell_type": "markdown",
   "id": "21",
   "metadata": {},
   "source": [
    "#### Nullテキストのエンコード"
   ]
  },
  {
   "cell_type": "code",
   "execution_count": null,
   "id": "22",
   "metadata": {},
   "outputs": [],
   "source": [
    "text_encoder_output = pipe.text_encoder(\n",
    "    uncond_text_input_ids.to(device)\n",
    ")\n",
    "uncond_prompt_embeds = text_encoder_output.last_hidden_state\n",
    "uncond_prompt_embeds = uncond_prompt_embeds.to(\n",
    "    dtype=pipe.text_encoder.dtype, device=device\n",
    ")"
   ]
  },
  {
   "cell_type": "markdown",
   "id": "23",
   "metadata": {},
   "source": [
    "### Noise Scheduler の設定"
   ]
  },
  {
   "cell_type": "code",
   "execution_count": null,
   "id": "24",
   "metadata": {},
   "outputs": [],
   "source": [
    "pipe.scheduler.set_timesteps(\n",
    "    num_inference_steps, device=device\n",
    ")\n",
    "timesteps = pipe.scheduler.timesteps"
   ]
  },
  {
   "cell_type": "markdown",
   "id": "25",
   "metadata": {},
   "source": [
    "### 潜在表現の準備"
   ]
  },
  {
   "cell_type": "code",
   "execution_count": null,
   "id": "26",
   "metadata": {},
   "outputs": [],
   "source": [
    "num_channels_latents = pipe.unet.config.in_channels\n",
    "latents = pipe.prepare_latents(\n",
    "    batch_size=batch_size,\n",
    "    num_channels_latents=num_channels_latents,\n",
    "    width=width,\n",
    "    height=height,\n",
    "    dtype=cond_prompt_embeds.dtype,\n",
    "    device=device,\n",
    "    generator=generator,\n",
    ")"
   ]
  },
  {
   "cell_type": "markdown",
   "id": "27",
   "metadata": {},
   "source": [
    "### 追加の引数の準備"
   ]
  },
  {
   "cell_type": "code",
   "execution_count": null,
   "id": "28",
   "metadata": {},
   "outputs": [],
   "source": [
    "kwargs = pipe.prepare_extra_step_kwargs(generator, eta)"
   ]
  },
  {
   "cell_type": "markdown",
   "id": "29",
   "metadata": {},
   "source": [
    "### CFG のガイダンススケールの指定"
   ]
  },
  {
   "cell_type": "code",
   "execution_count": null,
   "id": "30",
   "metadata": {
    "lines_to_next_cell": 2
   },
   "outputs": [],
   "source": [
    "guidance_scale = 7.5"
   ]
  },
  {
   "cell_type": "markdown",
   "id": "31",
   "metadata": {
    "lines_to_next_cell": 2
   },
   "source": [
    "### CFG の実行関数の定義"
   ]
  },
  {
   "cell_type": "code",
   "execution_count": null,
   "id": "32",
   "metadata": {},
   "outputs": [],
   "source": [
    "def classifier_free_guidance(\n",
    "    cond_noise_pred: torch.Tensor,\n",
    "    uncond_noise_pred: torch.Tensor,\n",
    "    guidance_scale: float,\n",
    ") -> torch.Tensor:\n",
    "    return uncond_noise_pred + guidance_scale * (\n",
    "        cond_noise_pred - uncond_noise_pred\n",
    "    )"
   ]
  },
  {
   "cell_type": "markdown",
   "id": "33",
   "metadata": {},
   "source": [
    "### CFG を適用した逆拡散過程の実行"
   ]
  },
  {
   "cell_type": "code",
   "execution_count": null,
   "id": "34",
   "metadata": {
    "lines_to_next_cell": 2
   },
   "outputs": [],
   "source": [
    "progress_bar = pipe.progress_bar(total=num_inference_steps)\n",
    "\n",
    "for i, t in enumerate(timesteps):\n",
    "    latent_model_input = pipe.scheduler.scale_model_input(\n",
    "        latents, t\n",
    "    )\n",
    "    # U-Net を使ってノイズを予測\n",
    "    # 条件プロンプトを使ってノイズを予測\n",
    "    cond_noise_pred = pipe.unet(\n",
    "        latent_model_input,\n",
    "        t,\n",
    "        encoder_hidden_states=cond_prompt_embeds,\n",
    "    ).sample\n",
    "    # 無条件プロンプトを使ってノイズを予測\n",
    "    uncond_noise_pred = pipe.unet(\n",
    "        latent_model_input,\n",
    "        t,\n",
    "        encoder_hidden_states=uncond_prompt_embeds,\n",
    "    ).sample\n",
    "    # Classifier-free Guidance の適用\n",
    "    noise_pred = classifier_free_guidance(\n",
    "        cond_noise_pred=cond_noise_pred,\n",
    "        uncond_noise_pred=uncond_noise_pred,\n",
    "        guidance_scale=guidance_scale,\n",
    "    )\n",
    "    # 現在の状態 (x_t) から一つ前のステップの状態 (x_{t-1}) を予測\n",
    "    latents = pipe.scheduler.step(\n",
    "        noise_pred, t, latents, **kwargs\n",
    "    ).prev_sample\n",
    "    # プログレスバーの更新\n",
    "    if (\n",
    "        i == len(timesteps) - 1\n",
    "        or (i + 1) % pipe.scheduler.order == 0\n",
    "    ):\n",
    "        progress_bar.update()"
   ]
  },
  {
   "cell_type": "markdown",
   "id": "35",
   "metadata": {},
   "source": [
    "### 潜在表現のデコード"
   ]
  },
  {
   "cell_type": "code",
   "execution_count": null,
   "id": "36",
   "metadata": {},
   "outputs": [],
   "source": [
    "scaling_factor = pipe.vae.scaling_factor\n",
    "images = pipe.vae.decode(\n",
    "    latents / scaling_factor, generator=generator\n",
    ").sample"
   ]
  },
  {
   "cell_type": "markdown",
   "id": "37",
   "metadata": {},
   "source": [
    "### NSFW の判定"
   ]
  },
  {
   "cell_type": "code",
   "execution_count": null,
   "id": "38",
   "metadata": {
    "lines_to_next_cell": 2
   },
   "outputs": [],
   "source": [
    "images, has_nsfw_concept = pipe.run_safety_checker(\n",
    "    image=images,\n",
    "    device=device,\n",
    "    dtype=cond_prompt_embeds.dtype,\n",
    ")"
   ]
  },
  {
   "cell_type": "markdown",
   "id": "39",
   "metadata": {},
   "source": [
    "### 潜在表現から画像への変換と表示"
   ]
  },
  {
   "cell_type": "code",
   "execution_count": null,
   "id": "40",
   "metadata": {
    "lines_to_next_cell": 2
   },
   "outputs": [],
   "source": [
    "do_denormalize = [\n",
    "    not has_nsfw for has_nsfw in has_nsfw_concept\n",
    "]\n",
    "images = pipe.image_processor.postprocess(\n",
    "    images, do_denormalize=do_denormalize\n",
    ")\n",
    "images[0]"
   ]
  },
  {
   "cell_type": "markdown",
   "id": "41",
   "metadata": {},
   "source": [
    "### ガイダンススケールと生成される画像の関係"
   ]
  },
  {
   "cell_type": "markdown",
   "id": "42",
   "metadata": {},
   "source": [
    "#### ガイダンススケールを変えて画像を生成する関数の定義"
   ]
  },
  {
   "cell_type": "code",
   "execution_count": null,
   "id": "43",
   "metadata": {},
   "outputs": [],
   "source": [
    "from diffusers.utils import make_image_grid\n",
    "from PIL import ImageOps\n",
    "from PIL.Image import Image as PilImage\n",
    "\n",
    "\n",
    "def exp_ablation(\n",
    "    prompt: str,\n",
    "    generator: torch.Generator,\n",
    "    negative_prompt: str = \"\",\n",
    "    guidance_scale: float = 7.5,\n",
    "    n_images: int = 16,\n",
    ") -> PilImage:\n",
    "    output = pipe(\n",
    "        prompt=prompt,\n",
    "        negative_prompt=negative_prompt,\n",
    "        guidance_scale=guidance_scale,\n",
    "        num_images_per_prompt=n_images,\n",
    "        generator=generator,\n",
    "    )\n",
    "    images = [\n",
    "        ImageOps.expand(im, border=5, fill=\"white\")\n",
    "        for im in output.images\n",
    "    ]\n",
    "    return make_image_grid(\n",
    "        images, rows=4, cols=n_images // 4\n",
    "    )"
   ]
  },
  {
   "cell_type": "markdown",
   "id": "44",
   "metadata": {},
   "source": [
    "#### ガイダンススケールを変えたときの生成結果の変化"
   ]
  },
  {
   "cell_type": "code",
   "execution_count": null,
   "id": "45",
   "metadata": {},
   "outputs": [],
   "source": [
    "import matplotlib.pyplot as plt\n",
    "\n",
    "guidance_scales = [0.0, 3.0, 7.5, 20.0]\n",
    "fig, axes = plt.subplots(\n",
    "    nrows=1, ncols=len(guidance_scales), dpi=300\n",
    ")\n",
    "\n",
    "for ax, guidance_scale in zip(axes, guidance_scales):\n",
    "    image = exp_ablation(\n",
    "        prompt=prompt,\n",
    "        guidance_scale=guidance_scale,\n",
    "        generator=torch.manual_seed(seed),\n",
    "    )\n",
    "    ax.set_title(f\"CFG scale: {guidance_scale}\", fontsize=5)\n",
    "\n",
    "    ax.imshow(image)\n",
    "    ax.axis(\"off\")\n",
    "\n",
    "fig.tight_layout()"
   ]
  },
  {
   "cell_type": "markdown",
   "id": "46",
   "metadata": {},
   "source": [
    "## Negative Prompt の実践"
   ]
  },
  {
   "cell_type": "markdown",
   "id": "47",
   "metadata": {},
   "source": [
    "### Negative Prompt の指定"
   ]
  },
  {
   "cell_type": "code",
   "execution_count": null,
   "id": "48",
   "metadata": {},
   "outputs": [],
   "source": [
    "negative_prompt = \"Astronaut walking or floating\""
   ]
  },
  {
   "cell_type": "markdown",
   "id": "49",
   "metadata": {},
   "source": [
    "### Negative Prompt による生成結果の変化"
   ]
  },
  {
   "cell_type": "code",
   "execution_count": null,
   "id": "50",
   "metadata": {},
   "outputs": [],
   "source": [
    "fig, axes = plt.subplots(\n",
    "    nrows=1, ncols=len(guidance_scales), dpi=300\n",
    ")\n",
    "\n",
    "for ax, guidance_scale in zip(axes, guidance_scales):\n",
    "    image = exp_ablation(\n",
    "        prompt=prompt,\n",
    "        negative_prompt=negative_prompt,\n",
    "        guidance_scale=guidance_scale,\n",
    "        generator=torch.manual_seed(seed),\n",
    "    )\n",
    "    ax.set_title(f\"CFG scale: {guidance_scale}\", fontsize=5)\n",
    "\n",
    "    ax.imshow(image)\n",
    "    ax.axis(\"off\")\n",
    "\n",
    "fig.tight_layout()"
   ]
  }
 ],
 "metadata": {
  "kernelspec": {
   "display_name": "Python 3 (ipykernel)",
   "language": "python",
   "name": "python3"
  },
  "language_info": {
   "codemirror_mode": {
    "name": "ipython",
    "version": 3
   },
   "file_extension": ".py",
   "mimetype": "text/x-python",
   "name": "python",
   "nbconvert_exporter": "python",
   "pygments_lexer": "ipython3",
   "version": "3.11.10"
  }
 },
 "nbformat": 4,
 "nbformat_minor": 5
}
