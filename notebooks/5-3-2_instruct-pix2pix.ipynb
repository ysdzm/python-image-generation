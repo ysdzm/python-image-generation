{
 "cells": [
  {
   "cell_type": "markdown",
   "id": "0",
   "metadata": {},
   "source": [
    "# InstructPix2Pix の実装"
   ]
  },
  {
   "cell_type": "markdown",
   "id": "1",
   "metadata": {},
   "source": [
    "[![Open In Colab](https://colab.research.google.com/assets/colab-badge.svg)](https://colab.research.google.com/github/py-img-gen/python-image-generation/blob/main/notebooks/5-3-2_instruct-pix2pix.ipynb)"
   ]
  },
  {
   "cell_type": "markdown",
   "id": "2",
   "metadata": {},
   "source": [
    "参考: https://github.com/huggingface/notebooks/blob/main/diffusers/InstructPix2Pix_using_diffusers.ipynb"
   ]
  },
  {
   "cell_type": "markdown",
   "id": "3",
   "metadata": {},
   "source": [
    "## 準備"
   ]
  },
  {
   "cell_type": "code",
   "execution_count": null,
   "id": "4",
   "metadata": {},
   "outputs": [],
   "source": [
    "!pip install -qq py-img-gen"
   ]
  },
  {
   "cell_type": "code",
   "execution_count": null,
   "id": "5",
   "metadata": {},
   "outputs": [],
   "source": [
    "import warnings\n",
    "\n",
    "import torch\n",
    "\n",
    "device = torch.device(\n",
    "    \"cuda\" if torch.cuda.is_available() else \"cpu\"\n",
    ")\n",
    "seed = 19950815\n",
    "\n",
    "warnings.simplefilter(\"ignore\", FutureWarning)"
   ]
  },
  {
   "cell_type": "markdown",
   "id": "6",
   "metadata": {},
   "source": [
    "## 編集対象画像の読み込み"
   ]
  },
  {
   "cell_type": "code",
   "execution_count": null,
   "id": "7",
   "metadata": {},
   "outputs": [],
   "source": [
    "from diffusers.utils import load_image\n",
    "\n",
    "original_image = load_image(\n",
    "    \"https://raw.githubusercontent.com/timothybrooks/instruct-pix2pix/main/imgs/example.jpg\"\n",
    ")\n",
    "original_image"
   ]
  },
  {
   "cell_type": "markdown",
   "id": "8",
   "metadata": {},
   "source": [
    "## InstructPix2Pix 用のパイプラインの読み込み"
   ]
  },
  {
   "cell_type": "code",
   "execution_count": null,
   "id": "9",
   "metadata": {},
   "outputs": [],
   "source": [
    "from diffusers import StableDiffusionInstructPix2PixPipeline\n",
    "\n",
    "model_id = \"timbrooks/instruct-pix2pix\"\n",
    "\n",
    "pipe = StableDiffusionInstructPix2PixPipeline.from_pretrained(\n",
    "    model_id,\n",
    "    torch_dtype=torch.float16,\n",
    "    variant=\"fp16\",\n",
    "    safety_checker=None,  # NSFW 用のフィルターを今回は無効化\n",
    ")\n",
    "\n",
    "pipe = pipe.to(device)"
   ]
  },
  {
   "cell_type": "markdown",
   "id": "10",
   "metadata": {},
   "source": [
    "## テキスト指示によるオリジナル画像の編集"
   ]
  },
  {
   "cell_type": "code",
   "execution_count": null,
   "id": "11",
   "metadata": {},
   "outputs": [],
   "source": [
    "from diffusers.utils import make_image_grid\n",
    "\n",
    "edit_instruction = \"turn him into cyborg\"\n",
    "\n",
    "edited_image = pipe(\n",
    "    prompt=edit_instruction,\n",
    "    image=original_image,\n",
    "    num_inference_steps=30,\n",
    "    image_guidance_scale=1,\n",
    "    generator=torch.manual_seed(seed),\n",
    ").images[0]\n",
    "\n",
    "images = [original_image, edited_image]\n",
    "make_image_grid(images, rows=1, cols=2)"
   ]
  },
  {
   "cell_type": "markdown",
   "id": "12",
   "metadata": {},
   "source": [
    "## InstructPix2Pix のハイパーパラメータの影響度合いの調査"
   ]
  },
  {
   "cell_type": "markdown",
   "id": "13",
   "metadata": {},
   "source": [
    "### 可視化用の関数の定義"
   ]
  },
  {
   "cell_type": "code",
   "execution_count": null,
   "id": "14",
   "metadata": {},
   "outputs": [],
   "source": [
    "from PIL.Image import Image as PilImage\n",
    "\n",
    "\n",
    "def generate_image(\n",
    "    s_T: float, s_I: float, seed: int\n",
    ") -> PilImage:\n",
    "    output = pipe(\n",
    "        prompt=edit_instruction,\n",
    "        image=original_image,\n",
    "        num_inference_steps=30,\n",
    "        guidance_scale=s_T,\n",
    "        image_guidance_scale=s_I,\n",
    "        generator=torch.manual_seed(seed),\n",
    "    )\n",
    "    images = output.images\n",
    "    return images[0]"
   ]
  },
  {
   "cell_type": "markdown",
   "id": "15",
   "metadata": {},
   "source": [
    "### 各ハイパーパラメータにおける編集結果の取得"
   ]
  },
  {
   "cell_type": "code",
   "execution_count": null,
   "id": "16",
   "metadata": {},
   "outputs": [],
   "source": [
    "import itertools\n",
    "\n",
    "s_T_list, s_I_list = [3, 7.5, 15], [1.0, 1.2, 1.6]\n",
    "combinations = list(itertools.product(s_I_list, s_T_list))\n",
    "\n",
    "images = [\n",
    "    generate_image(s_T=s_T, s_I=s_I, seed=seed)\n",
    "    for s_I, s_T in combinations\n",
    "]"
   ]
  },
  {
   "cell_type": "markdown",
   "id": "17",
   "metadata": {},
   "source": [
    "### 取得した編集結果の可視化"
   ]
  },
  {
   "cell_type": "code",
   "execution_count": null,
   "id": "18",
   "metadata": {},
   "outputs": [],
   "source": [
    "import matplotlib.pyplot as plt\n",
    "\n",
    "fig = plt.figure(figsize=(10, 10))\n",
    "\n",
    "for i, ((s_T, s_I), image) in enumerate(\n",
    "    zip(combinations, images)\n",
    "):\n",
    "    ax = fig.add_subplot(3, 3, i + 1)\n",
    "    ax.imshow(image)\n",
    "    ax.set_title(f\"$s_T = {s_T}$ and $s_I = {s_I}$\")\n",
    "    ax.axis(\"off\")"
   ]
  }
 ],
 "metadata": {
  "kernelspec": {
   "display_name": "Python 3 (ipykernel)",
   "language": "python",
   "name": "python3"
  },
  "language_info": {
   "codemirror_mode": {
    "name": "ipython",
    "version": 3
   },
   "file_extension": ".py",
   "mimetype": "text/x-python",
   "name": "python",
   "nbconvert_exporter": "python",
   "pygments_lexer": "ipython3",
   "version": "3.11.10"
  }
 },
 "nbformat": 4,
 "nbformat_minor": 5
}
