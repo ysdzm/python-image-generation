{
 "cells": [
  {
   "cell_type": "markdown",
   "id": "0",
   "metadata": {},
   "source": [
    "# Safe Latent Diffusion (SLD) の実装"
   ]
  },
  {
   "cell_type": "markdown",
   "id": "1",
   "metadata": {},
   "source": [
    "[![Open In Colab](https://colab.research.google.com/assets/colab-badge.svg)](https://colab.research.google.com/github/py-img-gen/python-image-generation/blob/main/notebooks/5-6-1_safe-latent-diffusion.ipynb)"
   ]
  },
  {
   "cell_type": "markdown",
   "id": "2",
   "metadata": {},
   "source": [
    "参考: https://hf.co/docs/diffusers/api/pipelines/stable_diffusion/stable_diffusion_safe"
   ]
  },
  {
   "cell_type": "markdown",
   "id": "3",
   "metadata": {},
   "source": [
    "## 準備"
   ]
  },
  {
   "cell_type": "code",
   "execution_count": null,
   "id": "4",
   "metadata": {},
   "outputs": [],
   "source": [
    "!pip install -qq py-img-gen"
   ]
  },
  {
   "cell_type": "code",
   "execution_count": null,
   "id": "5",
   "metadata": {},
   "outputs": [],
   "source": [
    "import warnings\n",
    "\n",
    "import torch\n",
    "\n",
    "device = torch.device(\n",
    "    \"cuda\" if torch.cuda.is_available() else \"cpu\"\n",
    ")\n",
    "dtype = torch.float16\n",
    "variant = \"fp16\"\n",
    "seed = 42\n",
    "\n",
    "warnings.simplefilter(\"ignore\", FutureWarning)"
   ]
  },
  {
   "cell_type": "markdown",
   "id": "6",
   "metadata": {},
   "source": [
    "## Safe Latent Diffusion の実践"
   ]
  },
  {
   "cell_type": "markdown",
   "id": "7",
   "metadata": {},
   "source": [
    "### Safe Latent Diffusion の読み込み"
   ]
  },
  {
   "cell_type": "code",
   "execution_count": null,
   "id": "8",
   "metadata": {},
   "outputs": [],
   "source": [
    "from diffusers import (\n",
    "    StableDiffusionPipeline,\n",
    "    StableDiffusionPipelineSafe,\n",
    ")\n",
    "\n",
    "model_id = \"stable-diffusion-v1-5/stable-diffusion-v1-5\"\n",
    "\n",
    "pipe_safe = StableDiffusionPipelineSafe.from_pretrained(\n",
    "    model_id, torch_dtype=dtype, variant=variant\n",
    ")\n",
    "pipe_safe = pipe_safe.to(device)"
   ]
  },
  {
   "cell_type": "code",
   "execution_count": null,
   "id": "9",
   "metadata": {},
   "outputs": [],
   "source": [
    "print(pipe_safe.safety_concept)"
   ]
  },
  {
   "cell_type": "code",
   "execution_count": null,
   "id": "10",
   "metadata": {
    "lines_to_next_cell": 2
   },
   "outputs": [],
   "source": [
    "prompt = \"the four horsewomen of the apocalypse, painting by tom of finland, gaston bussiere, craig mullins, j. c. leyendecker\"\n",
    "\n",
    "output_safe = pipe_safe(\n",
    "    prompt=prompt,\n",
    "    guidance_scale=6.0,\n",
    "    generator=torch.manual_seed(seed),\n",
    ")\n",
    "image_safe = output_safe.images[0]\n",
    "image_safe"
   ]
  },
  {
   "cell_type": "markdown",
   "id": "11",
   "metadata": {},
   "source": [
    "### Stable Diffusion の読み込み"
   ]
  },
  {
   "cell_type": "code",
   "execution_count": null,
   "id": "12",
   "metadata": {},
   "outputs": [],
   "source": [
    "pipe_unsafe = StableDiffusionPipeline.from_pretrained(\n",
    "    model_id, torch_dtype=dtype, variant=variant\n",
    ")\n",
    "pipe_unsafe = pipe_unsafe.to(device)"
   ]
  },
  {
   "cell_type": "code",
   "execution_count": null,
   "id": "13",
   "metadata": {},
   "outputs": [],
   "source": [
    "output_unsafe = pipe_unsafe(\n",
    "    prompt=prompt,\n",
    "    guidance_scale=6.0,\n",
    "    generator=torch.manual_seed(seed),\n",
    ")\n",
    "\n",
    "image_unsafe = output_unsafe.images[0]\n",
    "is_nsfw_detected = output_unsafe.nsfw_content_detected[0]"
   ]
  },
  {
   "cell_type": "code",
   "execution_count": null,
   "id": "14",
   "metadata": {},
   "outputs": [],
   "source": [
    "from PIL import ImageDraw, ImageFont\n",
    "from PIL.Image import Image as PilImage\n",
    "\n",
    "\n",
    "def draw_nsfw_warning(image: PilImage) -> PilImage:\n",
    "    image = image.copy()\n",
    "    image_w, image_h = image.size\n",
    "    draw = ImageDraw.Draw(image)\n",
    "    draw.text(\n",
    "        xy=(image_w // 2, image_h // 2),\n",
    "        text=\"!! NSFW detected !!\",\n",
    "        fill=\"red\",\n",
    "        anchor=\"mm\",\n",
    "        font=ImageFont.load_default(size=32),\n",
    "    )\n",
    "    return image"
   ]
  },
  {
   "cell_type": "code",
   "execution_count": null,
   "id": "15",
   "metadata": {},
   "outputs": [],
   "source": [
    "if is_nsfw_detected:\n",
    "    image_unsafe = draw_nsfw_warning(image_unsafe)\n",
    "\n",
    "image_unsafe"
   ]
  },
  {
   "cell_type": "code",
   "execution_count": null,
   "id": "16",
   "metadata": {},
   "outputs": [],
   "source": [
    "import matplotlib.pyplot as plt\n",
    "\n",
    "images = {\n",
    "    \"Stable Diffusion (Unsafe)\": image_unsafe,\n",
    "    \"Safe Latent Diffusion\": image_safe,\n",
    "}\n",
    "\n",
    "fig, axes = plt.subplots(nrows=1, ncols=len(images))\n",
    "\n",
    "for ax, (k, v) in zip(axes, images.items()):\n",
    "    ax.set_title(k)\n",
    "    ax.imshow(v)\n",
    "    ax.axis(\"off\")\n",
    "\n",
    "fig.tight_layout()"
   ]
  },
  {
   "cell_type": "markdown",
   "id": "17",
   "metadata": {},
   "source": [
    "### Safe Latent Diffusion における安全性の調整"
   ]
  },
  {
   "cell_type": "code",
   "execution_count": null,
   "id": "18",
   "metadata": {},
   "outputs": [],
   "source": [
    "from typing import List\n",
    "\n",
    "from diffusers.pipelines.stable_diffusion_safe import (\n",
    "    SafetyConfig,\n",
    ")\n",
    "\n",
    "print(f\"WEAK:   {SafetyConfig.WEAK}\")\n",
    "print(f\"MEDIUM: {SafetyConfig.MEDIUM}\")\n",
    "print(f\"STRONG: {SafetyConfig.STRONG}\")\n",
    "print(f\"MAX:    {SafetyConfig.MAX}\")"
   ]
  },
  {
   "cell_type": "code",
   "execution_count": null,
   "id": "19",
   "metadata": {},
   "outputs": [],
   "source": [
    "safety_configs = {\n",
    "    # \"WEAK\": SafetyConfig.WEAK, # 不適切な画像が生成しうるので、今回は対象外としました\n",
    "    \"MEDIUM\": SafetyConfig.MEDIUM,\n",
    "    \"STRONG\": SafetyConfig.STRONG,\n",
    "    \"MAX\": SafetyConfig.MAX,\n",
    "}\n",
    "\n",
    "generated_images: List[PilImage] = []\n",
    "for config_type, safety_config in safety_configs.items():\n",
    "    output = pipe_safe(\n",
    "        prompt=prompt,\n",
    "        generator=torch.manual_seed(seed),\n",
    "        guidance_scale=6.0,\n",
    "        **safety_config,\n",
    "    )\n",
    "    generated_images.extend(output.images)"
   ]
  },
  {
   "cell_type": "code",
   "execution_count": null,
   "id": "20",
   "metadata": {},
   "outputs": [],
   "source": [
    "fig, axes = plt.subplots(\n",
    "    nrows=1, ncols=len(generated_images)\n",
    ")\n",
    "\n",
    "for ax, config_type, image in zip(\n",
    "    axes, safety_configs.keys(), generated_images\n",
    "):\n",
    "    ax.set_title(f\"Safety: {config_type}\")\n",
    "    ax.imshow(image)\n",
    "    ax.axis(\"off\")\n",
    "\n",
    "fig.tight_layout()"
   ]
  }
 ],
 "metadata": {
  "kernelspec": {
   "display_name": "Python 3 (ipykernel)",
   "language": "python",
   "name": "python3"
  },
  "language_info": {
   "codemirror_mode": {
    "name": "ipython",
    "version": 3
   },
   "file_extension": ".py",
   "mimetype": "text/x-python",
   "name": "python",
   "nbconvert_exporter": "python",
   "pygments_lexer": "ipython3",
   "version": "3.11.10"
  }
 },
 "nbformat": 4,
 "nbformat_minor": 5
}
