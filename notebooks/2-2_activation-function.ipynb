{
 "cells": [
  {
   "cell_type": "markdown",
   "id": "0",
   "metadata": {},
   "source": [
    "# 活性化関数の可視化"
   ]
  },
  {
   "cell_type": "markdown",
   "id": "1",
   "metadata": {},
   "source": [
    "[![Open In Colab](https://colab.research.google.com/assets/colab-badge.svg)](https://colab.research.google.com/github/py-img-gen/python-image-generation/blob/main/notebooks/2-2_activation-function.ipynb)"
   ]
  },
  {
   "cell_type": "markdown",
   "id": "2",
   "metadata": {},
   "source": [
    "## 準備"
   ]
  },
  {
   "cell_type": "code",
   "execution_count": null,
   "id": "3",
   "metadata": {},
   "outputs": [],
   "source": [
    "!pip install -qq py-img-gen"
   ]
  },
  {
   "cell_type": "code",
   "execution_count": null,
   "id": "4",
   "metadata": {},
   "outputs": [],
   "source": [
    "import pathlib\n",
    "\n",
    "current_dir = pathlib.Path.cwd()\n",
    "project_dir = current_dir / \"data\" / \"activation-function\"\n",
    "project_dir.mkdir(parents=True, exist_ok=True)"
   ]
  },
  {
   "cell_type": "code",
   "execution_count": null,
   "id": "5",
   "metadata": {},
   "outputs": [],
   "source": [
    "import matplotlib.pyplot as plt\n",
    "import numpy as np\n",
    "\n",
    "plt.style.use(\"ggplot\")\n",
    "plt.rcParams[\"font.size\"] = 20\n",
    "\n",
    "\n",
    "def visualize(\n",
    "    ax,\n",
    "    x: np.ndarray,\n",
    "    y: np.ndarray,\n",
    "    bottom: float,\n",
    "    top: float,\n",
    "):\n",
    "    ax.set_xlim(-10, 10)\n",
    "    ax.set_ylim(bottom, top)\n",
    "    ax.set_xlabel(r\"$x$\")\n",
    "    ax.set_ylabel(r\"$y$\")\n",
    "    ax.plot(x, y, linewidth=4)\n",
    "    return ax"
   ]
  },
  {
   "cell_type": "code",
   "execution_count": null,
   "id": "6",
   "metadata": {
    "lines_to_next_cell": 2
   },
   "outputs": [],
   "source": [
    "x = np.arange(-10, 10, 0.01)\n",
    "x"
   ]
  },
  {
   "cell_type": "markdown",
   "id": "7",
   "metadata": {
    "lines_to_next_cell": 2
   },
   "source": [
    "## シグモイド関数"
   ]
  },
  {
   "cell_type": "code",
   "execution_count": null,
   "id": "8",
   "metadata": {
    "lines_to_next_cell": 2
   },
   "outputs": [],
   "source": [
    "def sigmoid_function(x):\n",
    "    return 1.0 / (1.0 + np.exp(-x))\n",
    "\n",
    "\n",
    "y = sigmoid_function(x)\n",
    "\n",
    "fig, ax = plt.subplots(figsize=(5, 4))\n",
    "ax = visualize(ax, x, y, bottom=-0.02, top=1.02)\n",
    "fig.savefig(project_dir / \"sigmoid.pdf\")"
   ]
  },
  {
   "cell_type": "markdown",
   "id": "9",
   "metadata": {
    "lines_to_next_cell": 2
   },
   "source": [
    "## tanh 関数"
   ]
  },
  {
   "cell_type": "code",
   "execution_count": null,
   "id": "10",
   "metadata": {
    "lines_to_next_cell": 2
   },
   "outputs": [],
   "source": [
    "def tanh_function(x):\n",
    "    return (np.exp(x) - np.exp(-x)) / (\n",
    "        np.exp(x) + np.exp(-x)\n",
    "    )\n",
    "\n",
    "\n",
    "y = tanh_function(x)\n",
    "\n",
    "fig, ax = plt.subplots(figsize=(5, 4))\n",
    "ax = visualize(ax, x, y, bottom=-1.05, top=1.05)\n",
    "fig.savefig(project_dir / \"tanh.pdf\")"
   ]
  },
  {
   "cell_type": "markdown",
   "id": "11",
   "metadata": {
    "lines_to_next_cell": 2
   },
   "source": [
    "## ReLU 関数"
   ]
  },
  {
   "cell_type": "code",
   "execution_count": null,
   "id": "12",
   "metadata": {},
   "outputs": [],
   "source": [
    "def relu_function(x):\n",
    "    return np.maximum(0, x)\n",
    "\n",
    "\n",
    "y = relu_function(x)\n",
    "\n",
    "fig, ax = plt.subplots(figsize=(5, 4))\n",
    "ax = visualize(ax, x, y, bottom=-0.2, top=10.2)\n",
    "fig.savefig(project_dir / \"relu.pdf\")"
   ]
  }
 ],
 "metadata": {
  "kernelspec": {
   "display_name": "Python 3 (ipykernel)",
   "language": "python",
   "name": "python3"
  },
  "language_info": {
   "codemirror_mode": {
    "name": "ipython",
    "version": 3
   },
   "file_extension": ".py",
   "mimetype": "text/x-python",
   "name": "python",
   "nbconvert_exporter": "python",
   "pygments_lexer": "ipython3",
   "version": "3.11.10"
  }
 },
 "nbformat": 4,
 "nbformat_minor": 5
}
