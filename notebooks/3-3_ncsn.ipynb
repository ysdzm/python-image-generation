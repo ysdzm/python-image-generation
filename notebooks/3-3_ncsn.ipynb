{
 "cells": [
  {
   "cell_type": "markdown",
   "id": "0",
   "metadata": {},
   "source": [
    "# NCSN (Noise Conditional Score Network) の実装"
   ]
  },
  {
   "cell_type": "markdown",
   "id": "1",
   "metadata": {},
   "source": [
    "[![Open In Colab](https://colab.research.google.com/assets/colab-badge.svg)](https://colab.research.google.com/github/py-img-gen/python-image-generation/blob/main/notebooks/3-3_ncsn.ipynb)"
   ]
  },
  {
   "cell_type": "markdown",
   "id": "2",
   "metadata": {},
   "source": [
    "参考: https://github.com/JeongJiHeon/ScoreDiffusionModel/blob/main/NCSN/NCSN_MNIST.ipynb"
   ]
  },
  {
   "cell_type": "markdown",
   "id": "3",
   "metadata": {},
   "source": [
    "## 準備"
   ]
  },
  {
   "cell_type": "code",
   "execution_count": null,
   "id": "4",
   "metadata": {},
   "outputs": [],
   "source": [
    "!pip install -qq py-img-gen[ncsn]"
   ]
  },
  {
   "cell_type": "code",
   "execution_count": null,
   "id": "5",
   "metadata": {
    "lines_to_next_cell": 2
   },
   "outputs": [],
   "source": [
    "import pathlib\n",
    "\n",
    "current_dir = pathlib.Path.cwd()\n",
    "project_dir = current_dir / \"data\" / \"ncsn\"\n",
    "project_dir.mkdir(exist_ok=True, parents=True)\n",
    "print(f\"Created a directory: {project_dir}\")\n",
    "\n",
    "import torch\n",
    "\n",
    "device = torch.device(\n",
    "    \"cuda\" if torch.cuda.is_available() else \"cpu\"\n",
    ")"
   ]
  },
  {
   "cell_type": "markdown",
   "id": "6",
   "metadata": {},
   "source": [
    "## 設定の定義"
   ]
  },
  {
   "cell_type": "code",
   "execution_count": null,
   "id": "7",
   "metadata": {
    "lines_to_next_cell": 2
   },
   "outputs": [],
   "source": [
    "from py_img_gen.trainers import TrainNCSNConfig\n",
    "\n",
    "train_config = TrainNCSNConfig(\n",
    "    num_epochs=150,\n",
    "    num_timesteps=10,\n",
    "    num_annealed_timesteps=100,\n",
    "    output_dir=project_dir,\n",
    ")\n",
    "print(train_config)"
   ]
  },
  {
   "cell_type": "code",
   "execution_count": null,
   "id": "8",
   "metadata": {
    "lines_to_next_cell": 2
   },
   "outputs": [],
   "source": [
    "from py_img_gen.trainers import EvalConfig\n",
    "\n",
    "eval_config = EvalConfig(eval_epoch=10)\n",
    "print(eval_config)"
   ]
  },
  {
   "cell_type": "code",
   "execution_count": null,
   "id": "9",
   "metadata": {},
   "outputs": [],
   "source": [
    "from py_img_gen.trainers import NCSNModelConfig\n",
    "\n",
    "model_config = NCSNModelConfig()\n",
    "print(model_config)"
   ]
  },
  {
   "cell_type": "markdown",
   "id": "10",
   "metadata": {},
   "source": [
    "## シードの固定"
   ]
  },
  {
   "cell_type": "code",
   "execution_count": null,
   "id": "11",
   "metadata": {},
   "outputs": [],
   "source": [
    "from transformers import set_seed\n",
    "\n",
    "set_seed(seed=train_config.seed)"
   ]
  },
  {
   "cell_type": "markdown",
   "id": "12",
   "metadata": {},
   "source": [
    "## Score Network の定義"
   ]
  },
  {
   "cell_type": "code",
   "execution_count": null,
   "id": "13",
   "metadata": {},
   "outputs": [],
   "source": [
    "from dataclasses import asdict\n",
    "\n",
    "from ncsn.unet import UNet2DModelForNCSN\n",
    "\n",
    "unet = UNet2DModelForNCSN(\n",
    "    num_train_timesteps=train_config.num_timesteps,\n",
    "    **asdict(model_config),\n",
    ")\n",
    "unet = unet.to(device)"
   ]
  },
  {
   "cell_type": "markdown",
   "id": "14",
   "metadata": {},
   "source": [
    "## Annealed Langevin Dynamics Scheduler の定義"
   ]
  },
  {
   "cell_type": "code",
   "execution_count": null,
   "id": "15",
   "metadata": {},
   "outputs": [],
   "source": [
    "from ncsn.scheduler import (\n",
    "    AnnealedLangevinDynamicsScheduler,\n",
    ")\n",
    "\n",
    "noise_scheduler = AnnealedLangevinDynamicsScheduler(\n",
    "    num_train_timesteps=train_config.num_timesteps,\n",
    "    num_annealed_steps=train_config.num_annealed_timesteps,\n",
    "    sigma_min=model_config.sigma_min,\n",
    "    sigma_max=model_config.sigma_max,\n",
    "    sampling_eps=train_config.sampling_eps,\n",
    ")"
   ]
  },
  {
   "cell_type": "markdown",
   "id": "16",
   "metadata": {},
   "source": [
    "## Optimizer の定義"
   ]
  },
  {
   "cell_type": "code",
   "execution_count": null,
   "id": "17",
   "metadata": {},
   "outputs": [],
   "source": [
    "optim = torch.optim.Adam(\n",
    "    unet.parameters(), lr=train_config.lr\n",
    ")"
   ]
  },
  {
   "cell_type": "markdown",
   "id": "18",
   "metadata": {},
   "source": [
    "## データセットの読み込み"
   ]
  },
  {
   "cell_type": "code",
   "execution_count": null,
   "id": "19",
   "metadata": {},
   "outputs": [],
   "source": [
    "from py_img_gen.trainers import (\n",
    "    get_simple_resize_transforms,\n",
    ")\n",
    "\n",
    "transform = get_simple_resize_transforms(\n",
    "    sample_size=model_config.sample_size\n",
    ")\n",
    "print(transform)"
   ]
  },
  {
   "cell_type": "code",
   "execution_count": null,
   "id": "20",
   "metadata": {},
   "outputs": [],
   "source": [
    "import torchvision\n",
    "from torch.utils.data import DataLoader\n",
    "\n",
    "dataset = torchvision.datasets.MNIST(\n",
    "    root=project_dir,\n",
    "    train=True,\n",
    "    download=True,\n",
    "    transform=transform,\n",
    ")\n",
    "\n",
    "data_loader = DataLoader(\n",
    "    dataset=dataset,\n",
    "    batch_size=train_config.batch_size,\n",
    "    shuffle=True,\n",
    "    drop_last=True,\n",
    "    num_workers=train_config.num_workers,\n",
    ")"
   ]
  },
  {
   "cell_type": "markdown",
   "id": "21",
   "metadata": {},
   "source": [
    "## NCSN の訓練"
   ]
  },
  {
   "cell_type": "code",
   "execution_count": null,
   "id": "22",
   "metadata": {
    "lines_to_next_cell": 2
   },
   "outputs": [],
   "source": [
    "from py_img_gen import trainers\n",
    "\n",
    "trainers.train(\n",
    "    train_config=train_config,\n",
    "    eval_config=eval_config,\n",
    "    unet=unet,\n",
    "    noise_scheduler=noise_scheduler,\n",
    "    optim=optim,\n",
    "    data_loader=data_loader,\n",
    "    device=device,\n",
    ")"
   ]
  },
  {
   "cell_type": "markdown",
   "id": "23",
   "metadata": {},
   "source": [
    "## NCSN の推論"
   ]
  },
  {
   "cell_type": "markdown",
   "id": "24",
   "metadata": {},
   "source": [
    "### 推論過程のアニメーションの表示"
   ]
  },
  {
   "cell_type": "code",
   "execution_count": null,
   "id": "25",
   "metadata": {},
   "outputs": [],
   "source": [
    "from IPython.display import HTML\n",
    "from py_img_gen import inferencers\n",
    "\n",
    "ani = inferencers.animation_inference(\n",
    "    train_config=train_config,\n",
    "    eval_config=eval_config,\n",
    "    unet=unet,\n",
    "    noise_scheduler=noise_scheduler,\n",
    ")\n",
    "\n",
    "HTML(ani.to_jshtml())"
   ]
  },
  {
   "cell_type": "markdown",
   "id": "26",
   "metadata": {},
   "source": [
    "### diffusers のパイプラインによる推論"
   ]
  },
  {
   "cell_type": "code",
   "execution_count": null,
   "id": "27",
   "metadata": {},
   "outputs": [],
   "source": [
    "from ncsn.pipeline_ncsn import NCSNPipeline\n",
    "\n",
    "pipe = NCSNPipeline(unet=unet, scheduler=noise_scheduler)\n",
    "pipe = pipe.to(device)"
   ]
  },
  {
   "cell_type": "code",
   "execution_count": null,
   "id": "28",
   "metadata": {},
   "outputs": [],
   "source": [
    "from diffusers.utils import make_image_grid\n",
    "\n",
    "output = pipe(\n",
    "    num_inference_steps=train_config.num_timesteps,\n",
    "    batch_size=eval_config.num_generate_images,\n",
    "    generator=torch.manual_seed(train_config.seed),\n",
    ")\n",
    "image = make_image_grid(\n",
    "    images=output.images,\n",
    "    rows=eval_config.num_grid_rows,\n",
    "    cols=eval_config.num_grid_cols,\n",
    ")\n",
    "image"
   ]
  }
 ],
 "metadata": {
  "kernelspec": {
   "display_name": "Python 3 (ipykernel)",
   "language": "python",
   "name": "python3"
  },
  "language_info": {
   "codemirror_mode": {
    "name": "ipython",
    "version": 3
   },
   "file_extension": ".py",
   "mimetype": "text/x-python",
   "name": "python",
   "nbconvert_exporter": "python",
   "pygments_lexer": "ipython3",
   "version": "3.11.10"
  }
 },
 "nbformat": 4,
 "nbformat_minor": 5
}
